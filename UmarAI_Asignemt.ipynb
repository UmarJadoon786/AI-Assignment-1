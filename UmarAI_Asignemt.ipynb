{
  "nbformat": 4,
  "nbformat_minor": 0,
  "metadata": {
    "colab": {
      "provenance": []
    },
    "kernelspec": {
      "name": "python3",
      "display_name": "Python 3"
    },
    "language_info": {
      "name": "python"
    }
  },
  "cells": [
    {
      "cell_type": "code",
      "execution_count": 1,
      "metadata": {
        "colab": {
          "base_uri": "https://localhost:8080/"
        },
        "id": "2oCnU4xiI-B5",
        "outputId": "7ee42f22-b18f-4047-9b8a-1c1b367b2e17"
      },
      "outputs": [
        {
          "output_type": "stream",
          "name": "stdout",
          "text": [
            "The shortest path from Islamabad to Karachi is: Islamabad -> Rawalpindi -> Quetta -> Karachi\n"
          ]
        }
      ],
      "source": [
        "graph = {\n",
        "    'Islamabad': ['Rawalpindi', 'Lahore', 'Peshawar'],\n",
        "    'Rawalpindi': ['Islamabad', 'Peshawar', 'Quetta'],\n",
        "    'Peshawar': ['Islamabad', 'Rawalpindi', 'Quetta'],\n",
        "    'Lahore': ['Islamabad', 'Multan', 'Quetta'],\n",
        "    'Multan': ['Lahore', 'Karachi', 'Quetta'],\n",
        "    'Quetta': ['Rawalpindi', 'Peshawar', 'Multan', 'Karachi'],\n",
        "    'Karachi': ['Multan', 'Quetta']\n",
        "}\n",
        "\n",
        "from collections import deque\n",
        "\n",
        "def bfs_shortest_path(graph, start, goal):\n",
        "    # Queue to store (city, path) where path is the list of cities to the current city\n",
        "    queue = deque([start])\n",
        "\n",
        "    # Dictionary to store the predecessor of each city, useful for reconstructing the path\n",
        "    previous_city = {start: None}\n",
        "\n",
        "    # Visited set to keep track of explored cities\n",
        "    visited = set([start])\n",
        "\n",
        "    # While there are cities in the queue to explore\n",
        "    while queue:\n",
        "        city = queue.popleft()  # Take the next city from the queue\n",
        "\n",
        "        # If we have reached the goal city, reconstruct the path and return it\n",
        "        if city == goal:\n",
        "            path = []\n",
        "            while city is not None:\n",
        "                path.append(city)\n",
        "                city = previous_city[city]  # Move backward through the previous city\n",
        "            return path[::-1]  # Return the reversed path (from start to goal)\n",
        "\n",
        "        # Explore all neighbors of the current city\n",
        "        for neighbor in graph[city]:\n",
        "            if neighbor not in visited:\n",
        "                visited.add(neighbor)  # Mark the neighbor as visited\n",
        "                previous_city[neighbor] = city  # Set the predecessor of the neighbor\n",
        "                queue.append(neighbor)  # Add the neighbor to the queue\n",
        "\n",
        "    return None  # Return None if no path was found\n",
        "\n",
        "# Example usage\n",
        "start_city = 'Islamabad'\n",
        "end_city = 'Karachi'\n",
        "path = bfs_shortest_path(graph, start_city, end_city)\n",
        "if path:\n",
        "    print(f\"The shortest path from {start_city} to {end_city} is: {' -> '.join(path)}\")\n",
        "else:\n",
        "    print(f\"No path found from {start_city} to {end_city}.\")\n"
      ]
    }
  ]
}